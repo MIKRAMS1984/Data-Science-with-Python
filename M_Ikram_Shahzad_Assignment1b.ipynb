{
  "nbformat": 4,
  "nbformat_minor": 0,
  "metadata": {
    "colab": {
      "provenance": [],
      "include_colab_link": true
    },
    "kernelspec": {
      "name": "python3",
      "display_name": "Python 3"
    },
    "language_info": {
      "name": "python"
    }
  },
  "cells": [
    {
      "cell_type": "markdown",
      "metadata": {
        "id": "view-in-github",
        "colab_type": "text"
      },
      "source": [
        "<a href=\"https://colab.research.google.com/github/MIKRAMS1984/Data-Science-with-Python/blob/main/M_Ikram_Shahzad_Assignment1b.ipynb\" target=\"_parent\"><img src=\"https://colab.research.google.com/assets/colab-badge.svg\" alt=\"Open In Colab\"/></a>"
      ]
    },
    {
      "cell_type": "markdown",
      "source": [],
      "metadata": {
        "id": "Dv8ulsPFqx20"
      }
    },
    {
      "cell_type": "markdown",
      "source": [
        "# 📝 Assignment: Python Basics – Part 2 Practice"
      ],
      "metadata": {
        "id": "6XUamrgfqztA"
      }
    },
    {
      "cell_type": "markdown",
      "source": [
        "### ✅ Task 1: List Practice\n",
        "Create a list called `colors` with 3 color names.  \n",
        "- Print the second item.  \n",
        "- Add another color to the list.  \n",
        "- Print the updated list.\n"
      ],
      "metadata": {
        "id": "BAez4GS7q9oO"
      }
    },
    {
      "cell_type": "code",
      "source": [
        "colors = [\"red\", \"blue\", \"green\"]\n",
        "print(colors[1])\n",
        "colors.append(\"yellow\")\n",
        "print(colors)"
      ],
      "metadata": {
        "id": "zg8J8spfq-LK",
        "colab": {
          "base_uri": "https://localhost:8080/"
        },
        "outputId": "c7bb0a60-3489-442f-f6a9-2dd267f11ca0"
      },
      "execution_count": 1,
      "outputs": [
        {
          "output_type": "stream",
          "name": "stdout",
          "text": [
            "blue\n",
            "['red', 'blue', 'green', 'yellow']\n"
          ]
        }
      ]
    },
    {
      "cell_type": "markdown",
      "source": [
        "### ✅ Task 2: Tuple Practice\n",
        "Create a tuple `dimensions = (100, 50)`  \n",
        "- Print both values.  \n",
        "- Try to change one and note what happens.\n"
      ],
      "metadata": {
        "id": "T8hn-s_irEIW"
      }
    },
    {
      "cell_type": "code",
      "source": [
        "dimensions = (100, 50)\n",
        "print(dimensions[0])\n",
        "print(dimensions[1])\n",
        "dimensions[0] = 200"
      ],
      "metadata": {
        "id": "7FfPnXN3rFuh",
        "colab": {
          "base_uri": "https://localhost:8080/",
          "height": 211
        },
        "outputId": "6b02513b-66f0-41af-d506-c8ba3c153c81"
      },
      "execution_count": 2,
      "outputs": [
        {
          "output_type": "stream",
          "name": "stdout",
          "text": [
            "100\n",
            "50\n"
          ]
        },
        {
          "output_type": "error",
          "ename": "TypeError",
          "evalue": "'tuple' object does not support item assignment",
          "traceback": [
            "\u001b[0;31m---------------------------------------------------------------------------\u001b[0m",
            "\u001b[0;31mTypeError\u001b[0m                                 Traceback (most recent call last)",
            "\u001b[0;32m<ipython-input-2-9bf8d02569ce>\u001b[0m in \u001b[0;36m<cell line: 0>\u001b[0;34m()\u001b[0m\n\u001b[1;32m      2\u001b[0m \u001b[0mprint\u001b[0m\u001b[0;34m(\u001b[0m\u001b[0mdimensions\u001b[0m\u001b[0;34m[\u001b[0m\u001b[0;36m0\u001b[0m\u001b[0;34m]\u001b[0m\u001b[0;34m)\u001b[0m\u001b[0;34m\u001b[0m\u001b[0;34m\u001b[0m\u001b[0m\n\u001b[1;32m      3\u001b[0m \u001b[0mprint\u001b[0m\u001b[0;34m(\u001b[0m\u001b[0mdimensions\u001b[0m\u001b[0;34m[\u001b[0m\u001b[0;36m1\u001b[0m\u001b[0;34m]\u001b[0m\u001b[0;34m)\u001b[0m\u001b[0;34m\u001b[0m\u001b[0;34m\u001b[0m\u001b[0m\n\u001b[0;32m----> 4\u001b[0;31m \u001b[0mdimensions\u001b[0m\u001b[0;34m[\u001b[0m\u001b[0;36m0\u001b[0m\u001b[0;34m]\u001b[0m \u001b[0;34m=\u001b[0m \u001b[0;36m200\u001b[0m\u001b[0;34m\u001b[0m\u001b[0;34m\u001b[0m\u001b[0m\n\u001b[0m",
            "\u001b[0;31mTypeError\u001b[0m: 'tuple' object does not support item assignment"
          ]
        }
      ]
    },
    {
      "cell_type": "markdown",
      "source": [
        "### ✅ Task 3: Dictionary Practice\n",
        "Create a dictionary `book = {\"title\": \"Python 101\", \"author\": \"John\", \"pages\": 250}`  \n",
        "- Print the title.  \n",
        "- Change the number of pages to 300 and print the updated dictionary.\n"
      ],
      "metadata": {
        "id": "4AaqFOuerJaP"
      }
    },
    {
      "cell_type": "code",
      "source": [
        "book = {\"title\": \"Python 101\", \"author\": \"John\", \"pages\": 250}\n",
        "print(book[\"title\"])\n",
        "book[\"pages\"] = 300\n",
        "print(book)"
      ],
      "metadata": {
        "id": "iqRpCGq8rQxI",
        "colab": {
          "base_uri": "https://localhost:8080/"
        },
        "outputId": "de6bbde6-0b1a-4ef2-9c83-2f494c74908b"
      },
      "execution_count": 3,
      "outputs": [
        {
          "output_type": "stream",
          "name": "stdout",
          "text": [
            "Python 101\n",
            "{'title': 'Python 101', 'author': 'John', 'pages': 300}\n"
          ]
        }
      ]
    },
    {
      "cell_type": "markdown",
      "source": [
        "### ✅ Task 4: Conditional Statements\n",
        "Write a script that:  \n",
        "- Asks the user to input a number.  \n",
        "- Prints `\"Even number\"` if it’s even, otherwise `\"Odd number\"`.\n"
      ],
      "metadata": {
        "id": "QNwCmMbTrR4o"
      }
    },
    {
      "cell_type": "code",
      "source": [
        "number = int(input(\"Enter a number: \"))\n",
        "if number % 2 == 0:\n",
        "    print(\"Even number\")\n",
        "else:\n",
        "    print(\"Odd number\")\n"
      ],
      "metadata": {
        "id": "Sg5oBpDHrTnM",
        "colab": {
          "base_uri": "https://localhost:8080/"
        },
        "outputId": "530a26c3-e6bf-424b-9ef6-e7b8c93ccd4b"
      },
      "execution_count": 5,
      "outputs": [
        {
          "output_type": "stream",
          "name": "stdout",
          "text": [
            "Enter a number: 1\n",
            "Odd number\n"
          ]
        }
      ]
    },
    {
      "cell_type": "markdown",
      "source": [
        "### ✅ Task 5: For Loop Practice\n",
        "Use a for loop to print numbers from 1 to 5.\n"
      ],
      "metadata": {
        "id": "E7_1yceZrUYa"
      }
    },
    {
      "cell_type": "code",
      "source": [
        "for i in range(5):\n",
        "  print(i+1)\n"
      ],
      "metadata": {
        "id": "CNHls5gOrV5r",
        "colab": {
          "base_uri": "https://localhost:8080/"
        },
        "outputId": "96628801-156a-44bc-8d0c-7cc16d16874c"
      },
      "execution_count": 8,
      "outputs": [
        {
          "output_type": "stream",
          "name": "stdout",
          "text": [
            "1\n",
            "2\n",
            "3\n",
            "4\n",
            "5\n"
          ]
        }
      ]
    },
    {
      "cell_type": "markdown",
      "source": [
        "### ✅ Task 6: While Loop Practice\n",
        "Use a while loop to count from 0 to 3.\n"
      ],
      "metadata": {
        "id": "bA4lQQfyrXvs"
      }
    },
    {
      "cell_type": "code",
      "source": [
        "  i = 0\n",
        "  while i < 4:\n",
        "    print(i)\n",
        "    i += 1\n"
      ],
      "metadata": {
        "id": "Uk4ZJC9drYDq",
        "colab": {
          "base_uri": "https://localhost:8080/"
        },
        "outputId": "572a3550-9804-452d-9935-1d56f063645f"
      },
      "execution_count": 9,
      "outputs": [
        {
          "output_type": "stream",
          "name": "stdout",
          "text": [
            "0\n",
            "1\n",
            "2\n",
            "3\n"
          ]
        }
      ]
    },
    {
      "cell_type": "markdown",
      "source": [
        "### ✅ Task 7: Function Practice\n",
        "Write a function `welcome(name)` that prints:  \n",
        "`\"Welcome, [name]!\"`  \n",
        "Call it with your own name.\n"
      ],
      "metadata": {
        "id": "RjscmdI-rbeu"
      }
    },
    {
      "cell_type": "code",
      "source": [
        "def welcome(name):\n",
        "    print(f\"Welcome, {name}!\")\n",
        "\n",
        "welcome(\"[Ikram Shahzad]\")"
      ],
      "metadata": {
        "id": "QDqHG8rOrb-p",
        "colab": {
          "base_uri": "https://localhost:8080/"
        },
        "outputId": "f478b178-cde6-4c94-a23f-4a2d75c3bd5a"
      },
      "execution_count": 13,
      "outputs": [
        {
          "output_type": "stream",
          "name": "stdout",
          "text": [
            "Welcome, [Ikram Shahzad]!\n"
          ]
        }
      ]
    },
    {
      "cell_type": "markdown",
      "source": [
        "### ✅ Task 8: Module Import Practice\n",
        "Import the `math` module and:  \n",
        "- Print the square root of 49.  \n",
        "- Print the value of `pi`.\n"
      ],
      "metadata": {
        "id": "TOeySFJ2reJO"
      }
    },
    {
      "cell_type": "code",
      "source": [
        "import math as m\n",
        "print('Square Root of 49: ', int(m.sqrt(49)))\n",
        "print('Pi Value:', m.pi)\n"
      ],
      "metadata": {
        "id": "Pd25D8l5recH",
        "colab": {
          "base_uri": "https://localhost:8080/"
        },
        "outputId": "15ec8761-c1e0-4398-84eb-bee60c1c2258"
      },
      "execution_count": 18,
      "outputs": [
        {
          "output_type": "stream",
          "name": "stdout",
          "text": [
            "Square Root of 49:  7\n",
            "Pi Value: 3.141592653589793\n"
          ]
        }
      ]
    },
    {
      "cell_type": "markdown",
      "source": [
        "### ✅ Task 9: Challenge Task\n",
        "Write a function `area_of_circle(radius)` that returns the area using `math.pi`.  \n",
        "Call it with radius `5`.\n"
      ],
      "metadata": {
        "id": "dzA8xeKNrf04"
      }
    },
    {
      "cell_type": "code",
      "source": [
        "def area_of_circle(radius):\n",
        "    return m.pi * (radius ** 2)\n",
        "\n",
        "print('Circle Area:' ,area_of_circle(5))\n"
      ],
      "metadata": {
        "id": "N-PGQ5uUrgNp",
        "colab": {
          "base_uri": "https://localhost:8080/"
        },
        "outputId": "f60cea1e-42da-4c0d-c15e-c97d3725eb2d"
      },
      "execution_count": 20,
      "outputs": [
        {
          "output_type": "stream",
          "name": "stdout",
          "text": [
            "Circle Area: 78.53981633974483\n"
          ]
        }
      ]
    },
    {
      "cell_type": "code",
      "source": [],
      "metadata": {
        "id": "bjpsTbGtrpHE"
      },
      "execution_count": null,
      "outputs": []
    }
  ]
}